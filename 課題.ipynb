{
 "cells": [
  {
   "cell_type": "code",
   "execution_count": 46,
   "id": "e970b110",
   "metadata": {},
   "outputs": [],
   "source": [
    "# Python標準ライブラリ calendar \n",
    "import calendar\n",
    "\n",
    "# 週始まりの曜日\n",
    "calendar.setfirstweekday(calendar.SUNDAY)\n",
    "\n",
    "# 各要件共通の曜日順番リスト\n",
    "weekDay_list = ['日', '月', '火', '水', '木', '金', '土']"
   ]
  },
  {
   "cell_type": "code",
   "execution_count": 47,
   "id": "0e422858",
   "metadata": {},
   "outputs": [
    {
     "name": "stdout",
     "output_type": "stream",
     "text": [
      "2022年4月\n",
      "日 月 火 水 木 金 土\n",
      "- - - - - 1 2\n",
      "3 4 5 6 7 8 9\n",
      "10 11 12 13 14 15 16\n",
      "17 18 19 20 21 22 23\n",
      "24 25 26 27 28 29 30\n"
     ]
    }
   ],
   "source": [
    "####### 要件1 ####### \n",
    "\n",
    "# 対象とする年と月\n",
    "Year = 2022\n",
    "Month = 4\n",
    "\n",
    "def task_1(y, m):\n",
    "    \n",
    "    titleFormat = \"{}年{}月\"\n",
    "    calFormat = \"{} {} {} {} {} {} {}\"\n",
    "    \n",
    "    # カレンダーをリストで取得\n",
    "    day_list = calendar.monthcalendar(y, m)\n",
    "    print(titleFormat.format(y, m))\n",
    "    print(calFormat.format(*weekDay_list))\n",
    "\n",
    "    for w in day_list:\n",
    "        w_list = []\n",
    "        for d in w:\n",
    "            if(d == 0):\n",
    "                w_list.append(\"-\")\n",
    "            else:\n",
    "                w_list.append(d)\n",
    "        print(calFormat.format(*w_list))\n",
    "        \n",
    "task_1(Year, Month)"
   ]
  },
  {
   "cell_type": "code",
   "execution_count": 48,
   "id": "9434fde9",
   "metadata": {},
   "outputs": [
    {
     "name": "stdout",
     "output_type": "stream",
     "text": [
      "2022年4月の第1週の日付\n",
      "     1 2\n"
     ]
    }
   ],
   "source": [
    "#######  要件2 ####### \n",
    "\n",
    "# 対象とする年と月と週\n",
    "Year = 2022\n",
    "Month = 4\n",
    "# 第1週は1, 第2週は2を指定 \n",
    "WeekNum = 1\n",
    "\n",
    "def task_2(y, m, wn):\n",
    "    \n",
    "    titleFormat = \"{}年{}月の第{}週の日付\"\n",
    "    calFormat = \"{} {} {} {} {} {} {}\"\n",
    "    \n",
    "    print(titleFormat.format(y, m, wn))\n",
    "    \n",
    "    # カレンダーをリストで取得\n",
    "    day_list = calendar.monthcalendar(y, m)\n",
    "    for i, w in enumerate(day_list):   \n",
    "        if(wn == i + 1):\n",
    "            w_list = []\n",
    "            for d in w:\n",
    "                if(d == 0):\n",
    "                    w_list.append(\"\")\n",
    "                else:\n",
    "                    w_list.append(d)\n",
    "            print(calFormat.format(*w_list))\n",
    "            break\n",
    "\n",
    "task_2(Year, Month, WeekNum)"
   ]
  },
  {
   "cell_type": "code",
   "execution_count": 50,
   "id": "035e22fd",
   "metadata": {},
   "outputs": [
    {
     "name": "stdout",
     "output_type": "stream",
     "text": [
      "2022年4月の木曜日に該当する日付\n",
      "7 14 21 28\n"
     ]
    }
   ],
   "source": [
    "#######  要件3 ####### \n",
    "\n",
    "Year = 2022\n",
    "Month = 4\n",
    "# 曜日の文字列は、各要件共通の曜日順番リストの文字列と同じ（日曜日は'日'）にする\n",
    "youbi = '木'\n",
    "\n",
    "def task_3(y, m, ws):\n",
    "    youbi_index = 0\n",
    "    for i, t in enumerate(weekDay_list):\n",
    "        if(youbi == t):\n",
    "            youbi_index = i\n",
    "            #print(youbi_index)\n",
    "    \n",
    "    titleFormat = \"{}年{}月の{}曜日に該当する日付\"\n",
    "    \n",
    "    # カレンダーをリストで取得\n",
    "    day_list = calendar.monthcalendar(y, m)\n",
    "    print(titleFormat.format(y, m, ws))\n",
    "\n",
    "    d_list = []\n",
    "    for w in day_list:\n",
    "        for i, d in enumerate(w):\n",
    "            if(i == youbi_index and d != 0):\n",
    "                d_list.append(d)\n",
    "    s = ' '.join(map(str, d_list))\n",
    "    print(s)\n",
    "\n",
    "task_3(Year, Month, youbi)"
   ]
  }
 ],
 "metadata": {
  "kernelspec": {
   "display_name": "Python 3",
   "language": "python",
   "name": "python3"
  },
  "language_info": {
   "codemirror_mode": {
    "name": "ipython",
    "version": 3
   },
   "file_extension": ".py",
   "mimetype": "text/x-python",
   "name": "python",
   "nbconvert_exporter": "python",
   "pygments_lexer": "ipython3",
   "version": "3.8.12"
  }
 },
 "nbformat": 4,
 "nbformat_minor": 5
}
